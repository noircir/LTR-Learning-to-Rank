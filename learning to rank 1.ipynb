{
 "cells": [
  {
   "cell_type": "markdown",
   "id": "27cb2d85-a9ea-407f-81b8-8f6d4ff5877d",
   "metadata": {},
   "source": [
    "## Learning to Rank with XGBoost"
   ]
  },
  {
   "cell_type": "code",
   "execution_count": null,
   "id": "982ddf0c-8d87-4252-b5c2-1811014f47f0",
   "metadata": {},
   "outputs": [],
   "source": []
  }
 ],
 "metadata": {
  "kernelspec": {
   "display_name": "Python 3 (ipykernel)",
   "language": "python",
   "name": "python3"
  },
  "language_info": {
   "codemirror_mode": {
    "name": "ipython",
    "version": 3
   },
   "file_extension": ".py",
   "mimetype": "text/x-python",
   "name": "python",
   "nbconvert_exporter": "python",
   "pygments_lexer": "ipython3",
   "version": "3.9.6"
  }
 },
 "nbformat": 4,
 "nbformat_minor": 5
}
